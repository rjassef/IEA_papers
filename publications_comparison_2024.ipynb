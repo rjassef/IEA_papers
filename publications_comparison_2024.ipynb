{
 "cells": [
  {
   "cell_type": "code",
   "execution_count": 1,
   "metadata": {},
   "outputs": [],
   "source": [
    "import ads\n",
    "import numpy as np\n",
    "import matplotlib.pyplot as plt\n",
    "import re\n",
    "from unidecode import unidecode\n",
    "from astropy.time import Time"
   ]
  },
  {
   "cell_type": "code",
   "execution_count": 2,
   "metadata": {},
   "outputs": [],
   "source": [
    "faculty_lists = dict()"
   ]
  },
  {
   "cell_type": "code",
   "execution_count": 3,
   "metadata": {},
   "outputs": [],
   "source": [
    "#List of Astro faculty\n",
    "faculty_lists['UCH'] = [\n",
    "    'Blanc, G',\n",
    "    'Bronfman, L',\n",
    "    'Campusano, L',\n",
    "    'Casassus, S',\n",
    "    'Costa, E',\n",
    "    'Escala, A',\n",
    "    'Finger, R',\n",
    "    'Forster, F.',\n",
    "    'Lira, P',\n",
    "    'Lopez, S',\n",
    "    'Mardones, D',\n",
    "    'Max Moerbeck, W', \n",
    "    'Maza, J',\n",
    "    'Mendez, R', \n",
    "    'Munoz, R',\n",
    "    'Perez, L', \n",
    "    'Rojo, P', \n",
    "    'Rubio, M',\n",
    "    'Ruiz, M'\n",
    "]"
   ]
  },
  {
   "cell_type": "code",
   "execution_count": 4,
   "metadata": {},
   "outputs": [],
   "source": [
    "faculty_lists['UDP'] = [\n",
    "    \"Aravena, M\",\n",
    "    \"Assef, R\",\n",
    "    \"Cieza, L\",\n",
    "    \"Jenkins, J\",\n",
    "    \"Johnston, E\",\n",
    "    \"Jofre, P\",\n",
    "    \"Mazzucchelli, C\",\n",
    "    \"Prieto, J\",\n",
    "    \"Ricci, C\",\n",
    "    \"Yang, B\",\n",
    "    \"Zurlo, A\"\n",
    "]"
   ]
  },
  {
   "cell_type": "code",
   "execution_count": 5,
   "metadata": {},
   "outputs": [],
   "source": [
    "faculty_lists['PUC'] = [\n",
    "    'Aguilera Gomez, C',\n",
    "    'Barrientos, L', \n",
    "    'Bauer, F', \n",
    "    'Catelan, M',\n",
    "    'Chaname, J', \n",
    "    'Clocchiatti, A',\n",
    "    'Dunner, R',\n",
    "    'Galaz, G',\n",
    "    'Guzman, V',\n",
    "    'Petrovich, C',\n",
    "    'Puzia, T',\n",
    "    'Tissera, P',\n",
    "    'Treister, E',\n",
    "    'Zoccali, M'\n",
    "]"
   ]
  },
  {
   "cell_type": "code",
   "execution_count": 6,
   "metadata": {},
   "outputs": [],
   "source": [
    "faculty_lists['UNAB'] = [\n",
    "    'Anguita, T', \n",
    "    'Caceres, C', \n",
    "    'Chemin, L',\n",
    "    'Gavignaud, I',\n",
    "    'Gomez Camus, M', \n",
    "    'Guaita, L',\n",
    "    'Masetti, N', \n",
    "    'Minniti, D', \n",
    "    'Monaco, L', \n",
    "    'Nantais, J',\n",
    "    'Ohnaka, K',\n",
    "]"
   ]
  },
  {
   "cell_type": "code",
   "execution_count": 7,
   "metadata": {},
   "outputs": [],
   "source": [
    "#https://fisica.usm.cl/departamento/academicos-y-docentes/\n",
    "faculty_lists['UTSM'] = [\n",
    "    'Jaffe, Y', \n",
    "    'Montero Dorta, A',\n",
    "    'Schreiber, M',\n",
    "    'Smith, R', \n",
    "    'Toloza, O',\n",
    "]"
   ]
  },
  {
   "cell_type": "code",
   "execution_count": 8,
   "metadata": {},
   "outputs": [],
   "source": [
    "faculty_lists[\"UAI\"] = [\n",
    "    'Benitez Llambay, P', \n",
    "    'Brahm, R', \n",
    "    'Cuadra, J',\n",
    "    'Jordan, A', \n",
    "    'Mulders, G', \n",
    "    'Munoz, D', \n",
    "]"
   ]
  },
  {
   "cell_type": "code",
   "execution_count": 9,
   "metadata": {},
   "outputs": [],
   "source": [
    "faculty_lists[\"UTA\"] = [\n",
    "    'Boquien, M', \n",
    "    'Carballo Bello, J', \n",
    "    'Pignata, G',\n",
    "    'Rojas Ayala, B'\n",
    "]"
   ]
  },
  {
   "cell_type": "code",
   "execution_count": 10,
   "metadata": {},
   "outputs": [],
   "source": [
    "faculty_lists[\"USACH\"] = [\n",
    "    'El Mellah, I',\n",
    "    'Espinoza, C',\n",
    "    'Perez, S',\n",
    "    'Rojas-Arriagada, A',\n",
    "]"
   ]
  },
  {
   "cell_type": "code",
   "execution_count": 11,
   "metadata": {},
   "outputs": [],
   "source": [
    "#Search for all papers from UDP in ADS in a given year.\n",
    "def paper_search(year, affs=\"portales\"):\n",
    "    q = ads.SearchQuery(aff=affs, year=year, fl=[\"author\", \"citation_count\", \"aff\", \"property\", \"doctype\", \"title\", \"pubdate\", \"bibcode\"], max_pages=100)\n",
    "    ql = list(q)\n",
    "    return ql"
   ]
  },
  {
   "cell_type": "code",
   "execution_count": 12,
   "metadata": {},
   "outputs": [],
   "source": [
    "def proc_name(input_name):\n",
    "    name = unidecode(input_name)\n",
    "    name = re.sub(\"-\",\" \", name)\n",
    "    name = re.sub(\"^(.*?\\, .).*$\",r\"\\1\", name)\n",
    "    return name"
   ]
  },
  {
   "cell_type": "code",
   "execution_count": 13,
   "metadata": {},
   "outputs": [],
   "source": [
    "#Distribute publications between UDP authors.\n",
    "def get_n_papers(ads_query_list, faculty, only_faculty=False, affs=[\"portales\"]):\n",
    "    n_papers = dict()\n",
    "    for paper in ads_query_list:\n",
    "\n",
    "        #Only process refereed articles.\n",
    "        if paper.property is not None and 'REFEREED' in paper.property and paper.doctype=='article':\n",
    "            pass\n",
    "        else:\n",
    "            continue\n",
    "\n",
    "        inst_auth = list()\n",
    "        for k in range(len(paper.author)):\n",
    "            name = proc_name(paper.author[k])\n",
    "            if len(faculty)==0 or name in faculty:\n",
    "                found_aff = True\n",
    "                for aff in affs:\n",
    "                    if not re.search(aff, unidecode(paper.aff[k]), flags=re.IGNORECASE):\n",
    "                        found_aff = False\n",
    "                if found_aff:\n",
    "                    inst_auth.append(name)\n",
    "        for name in inst_auth:\n",
    "            if name in n_papers:\n",
    "                n_papers[name] += 1./len(inst_auth)\n",
    "            else:\n",
    "                n_papers[name] = 1./len(inst_auth)\n",
    "    return n_papers"
   ]
  },
  {
   "cell_type": "code",
   "execution_count": 14,
   "metadata": {},
   "outputs": [],
   "source": [
    "ql = dict()\n",
    "aff_search = dict()\n",
    "n_papers = dict()"
   ]
  },
  {
   "cell_type": "code",
   "execution_count": 15,
   "metadata": {},
   "outputs": [],
   "source": [
    "# aff_search[\"UCH\"] = \"Universidad de Chile\"\n",
    "# aff_search[\"UDP\"] = \"portales\"\n",
    "# aff_search[\"PUC\"] = \"Pontificia Universidad Catolica de Chile\"\n",
    "# aff_search[\"UNAB\"] = \"Universidad Andres Bello\"\n",
    "# aff_search[\"UTSM\"] = \"Universidad Tecnica Federico Santa Maria\"\n",
    "# aff_search[\"UAI\"] = \"Universidad Adolfo Ibanez\"\n",
    "# aff_search[\"UTA\"] = \"Universidad de Tarapaca\"\n",
    "aff_search[\"UCH\"] = \"Universidad de Chile\"\n",
    "aff_search[\"UDP\"] = \"portales\"\n",
    "aff_search[\"PUC\"] = \"Universidad Catolica\"\n",
    "aff_search[\"UNAB\"] = \"Andres Bello\"\n",
    "#aff_search[\"UTSM\"] = \"Santa Maria\"\n",
    "aff_search[\"UAI\"] = \"Adolfo Ibanez\"\n",
    "aff_search[\"UTA\"] = \"Tarapaca\"\n",
    "aff_search[\"USACH\"] = \"Universidad de Santiago\""
   ]
  },
  {
   "cell_type": "code",
   "execution_count": 16,
   "metadata": {},
   "outputs": [],
   "source": [
    "for key in aff_search.keys():\n",
    "    if key not in ql:\n",
    "        ql[key] = paper_search(2024, affs=aff_search[key])"
   ]
  },
  {
   "cell_type": "code",
   "execution_count": 17,
   "metadata": {},
   "outputs": [
    {
     "data": {
      "text/plain": [
       "array(['El Mellah, I', 'Espinoza, C', 'Perez, S'], dtype='<U12')"
      ]
     },
     "execution_count": 17,
     "metadata": {},
     "output_type": "execute_result"
    }
   ],
   "source": [
    "inst = \"USACH\"\n",
    "#ql[inst] = paper_search(2023, affs=aff_search[inst])\n",
    "n_papers[inst] = get_n_papers(ql[key], faculty_lists[inst], only_faculty=True, affs=[aff_search[inst]])\n",
    "np.unique(list(n_papers[inst].keys()))"
   ]
  },
  {
   "cell_type": "code",
   "execution_count": 18,
   "metadata": {},
   "outputs": [],
   "source": [
    "#Sort dividing papers as they go for incentivos.\n",
    "for key in ql.keys():\n",
    "    n_papers[key] = get_n_papers(ql[key], faculty_lists[key], only_faculty=True, affs=[aff_search[key]])"
   ]
  },
  {
   "cell_type": "code",
   "execution_count": 19,
   "metadata": {},
   "outputs": [
    {
     "name": "stdout",
     "output_type": "stream",
     "text": [
      "USACH 4.0\n",
      "UCH 3.0\n",
      "UDP 9.0\n",
      "PUC 4.25\n",
      "UNAB 5.375\n",
      "UAI 7.0\n",
      "UTA 5.75\n"
     ]
    },
    {
     "data": {
      "text/plain": [
       "Text(0, 0.5, 'Numero de articulos')"
      ]
     },
     "execution_count": 19,
     "metadata": {},
     "output_type": "execute_result"
    },
    {
     "data": {
      "image/png": "[encoded data removed]",
      "text/plain": [
       "<Figure size 640x480 with 1 Axes>"
      ]
     },
     "metadata": {},
     "output_type": "display_data"
    }
   ],
   "source": [
    "list_for_plots = list()\n",
    "keys = list(n_papers.keys())\n",
    "median_papers = dict()\n",
    "for key in keys:\n",
    "    median_papers[key] = np.median(list(n_papers[key].values()))\n",
    "    print(key, median_papers[key])\n",
    "keys = sorted(keys, key=lambda k:median_papers[k])\n",
    "for key in keys:\n",
    "    list_for_plots.append(list(n_papers[key].values()))\n",
    "plt.boxplot(list_for_plots, whis=3.0, labels=keys, whiskerprops={'color':'gray'}, capprops={'color':'gray'})\n",
    "plt.ylabel(\"Numero de articulos\")"
   ]
  },
  {
   "cell_type": "code",
   "execution_count": 20,
   "metadata": {},
   "outputs": [],
   "source": [
    "#Get list for Jose.\n",
    "def get_papers_per_faculty(ads_query_list, faculty, only_faculty=False, affs=[\"portales\"]):\n",
    "    papers_per_faculty = dict()\n",
    "    for name in faculty:\n",
    "        papers_per_faculty[name] = list()\n",
    "    for paper in ads_query_list:\n",
    "\n",
    "        #Only process refereed articles.\n",
    "        if paper.property is not None and 'REFEREED' in paper.property and paper.doctype=='article':\n",
    "            pass\n",
    "        else:\n",
    "            continue\n",
    "\n",
    "        inst_auth = list()\n",
    "        for k in range(len(paper.author)):\n",
    "            name = proc_name(paper.author[k])\n",
    "            if len(faculty)==0 or name in faculty:\n",
    "                found_aff = True\n",
    "                for aff in affs:\n",
    "                    if not re.search(aff, unidecode(paper.aff[k]), flags=re.IGNORECASE):\n",
    "                        found_aff = False\n",
    "                if found_aff:\n",
    "                    inst_auth.append(name)\n",
    "        for name in inst_auth:\n",
    "            papers_per_faculty[name].append([paper.bibcode, 1./len(inst_auth)])\n",
    "    return papers_per_faculty"
   ]
  },
  {
   "cell_type": "code",
   "execution_count": 21,
   "metadata": {},
   "outputs": [],
   "source": [
    "ppf = get_papers_per_faculty(ql['UDP'], faculty_lists['UDP'], affs=[aff_search['UDP']])"
   ]
  },
  {
   "cell_type": "code",
   "execution_count": 22,
   "metadata": {},
   "outputs": [
    {
     "name": "stdout",
     "output_type": "stream",
     "text": [
      "\n",
      " Aravena, M\n",
      "2024A&A...689A.145S    0.33\n",
      "2024A&A...690A.197M    0.50\n",
      "2024A&A...691A.133V    0.50\n",
      "2024A&A...682A.166F    0.50\n",
      "2024A&A...689A.331L    0.33\n",
      "2024A&A...683A..64A    0.50\n",
      "2024ApJ...961..120C    1.00\n",
      "2024ApJ...975..196W    1.00\n",
      "2024ApJ...967...11C    1.00\n",
      "2024PASP..136d4503H    1.00\n",
      "2024MNRAS.tmp.2235R    1.00\n",
      "2024MNRAS.533.3098A    1.00\n",
      "2024MNRAS.527.5808B    1.00\n",
      "2024MNRAS.527.6867A    1.00\n",
      "2024MNRAS.534.2062V    1.00\n",
      "2024A&A...684A..30M    1.00\n",
      "2024A&A...682A..24A    1.00\n",
      "2024A&A...689A..20H    1.00\n",
      "\n",
      " Assef, R\n",
      "2024A&A...689A.145S    0.33\n",
      "2024A&A...690A.197M    0.50\n",
      "2024A&A...691A.133V    0.50\n",
      "2024A&A...688A.157S    0.50\n",
      "2024A&A...682A.166F    0.50\n",
      "2024ApJ...966...85Z    0.50\n",
      "2024ApJ...971...40L    1.00\n",
      "2024ApJ...975..239F    0.50\n",
      "2024A&A...690A.365S    0.50\n",
      "2024ApJ...968...49W    0.50\n",
      "2024A&A...689A.331L    0.33\n",
      "2024ApJ...975..230B    0.50\n",
      "2024MNRAS.532..643Z    0.50\n",
      "2024ApJS..274...42Z    0.50\n",
      "2024ApJ...961...93S    0.50\n",
      "2024MNRAS.534..978M    1.00\n",
      "\n",
      " Cieza, L\n",
      "2024ApJ...966...96H    0.50\n",
      "2024A&A...685A..53G    0.50\n",
      "2024ApJ...974..102S    1.00\n",
      "2024A&A...686A.309Z    0.50\n",
      "2024ApJ...966..119L    1.00\n",
      "2024ApJ...966...59S    1.00\n",
      "2024MNRAS.527.9655A    1.00\n",
      "\n",
      " Jenkins, J\n",
      "2024MNRAS.533.2823H    1.00\n",
      "2024A&A...686A.230B    1.00\n",
      "2024A&A...688A.211L    1.00\n",
      "2024AJ....167..238O    1.00\n",
      "2024AJ....168..132N    1.00\n",
      "2024MNRAS.530..318H    1.00\n",
      "2024MNRAS.532.1444G    1.00\n",
      "2024A&A...681A..55H    1.00\n",
      "2024MNRAS.528.1841H    1.00\n",
      "2024MNRAS.527..911F    1.00\n",
      "2024A&A...684A.201B    1.00\n",
      "\n",
      " Johnston, E\n",
      "2024A&A...689A.145S    0.33\n",
      "2024AJ....168..198D    1.00\n",
      "2024MNRAS.529.2946W    0.50\n",
      "2024ApJ...962..154D    0.50\n",
      "2024A&A...683A..64A    0.50\n",
      "2024A&A...684A..32J    1.00\n",
      "2024A&A...689A.352K    1.00\n",
      "2024MNRAS.532.3747N    1.00\n",
      "2024A&A...686A.247J    1.00\n",
      "2024ApJ...975L..26G    1.00\n",
      "2024A&A...681A.100J    1.00\n",
      "\n",
      " Jofre, P\n",
      "2024A&A...689A.201S    1.00\n",
      "2024A&A...682A.145S    1.00\n",
      "2024MNRAS.529.2946W    0.50\n",
      "2024ApJ...962..154D    0.50\n",
      "2024A&A...687A.164V    1.00\n",
      "2024ApJ...975...47V    1.00\n",
      "2024A&A...690A.120D    1.00\n",
      "2024A&A...688A.165S    1.00\n",
      "2024A&A...684A.148W    1.00\n",
      "2024MNRAS.534.1985B    1.00\n",
      "\n",
      " Mazzucchelli, C\n",
      "2024A&A...689A.331L    0.33\n",
      "2024A&A...689A.219D    1.00\n",
      "2024ApJ...974..147L    1.00\n",
      "2024A&A...685A.121L    1.00\n",
      "2024A&A...689A.128L    1.00\n",
      "2024A&A...686A.141B    1.00\n",
      "2024ApJ...970....9B    1.00\n",
      "2024ApJ...968....9W    1.00\n",
      "2024ApJ...962L..11W    1.00\n",
      "2024ApJ...975..214J    1.00\n",
      "2024ApJ...965..134D    1.00\n",
      "2024ApJS..271....8G    1.00\n",
      "2024ApJ...967...27R    1.00\n",
      "2024ApJ...964...98X    1.00\n",
      "2024MNRAS.528.2679Y    1.00\n",
      "\n",
      " Prieto, J\n",
      "2024A&A...688L..28P    1.00\n",
      "2024MNRAS.530.4501H    1.00\n",
      "2024ApJ...967...20M    1.00\n",
      "2024MNRAS.530.5016D    1.00\n",
      "\n",
      " Ricci, C\n",
      "2024A&A...688A.157S    0.50\n",
      "2024ApJ...966...85Z    0.50\n",
      "2024ApJ...975..239F    0.50\n",
      "2024A&A...687A..51T    1.00\n",
      "2024A&A...690A.365S    0.50\n",
      "2024ApJ...968...49W    0.50\n",
      "2024ApJ...960...15K    1.00\n",
      "2024ApJ...975..230B    0.50\n",
      "2024MNRAS.532..424T    1.00\n",
      "2024A&A...690A.232S    1.00\n",
      "2024MNRAS.532..643Z    0.50\n",
      "2024ApJS..274...42Z    0.50\n",
      "2024ApJ...961...93S    0.50\n",
      "2024MNRAS.532.4369D    1.00\n",
      "2024ApJ...966..116K    1.00\n",
      "2024ApJ...975L...2Z    1.00\n",
      "2024ApJ...974..195Z    1.00\n",
      "2024A&A...689A.263D    1.00\n",
      "2024A&A...689A.347G    1.00\n",
      "2024A&A...690A.350H    1.00\n",
      "2024JCAP...07..047A    1.00\n",
      "2024MNRAS.532.4645H    1.00\n",
      "2024A&A...686A..46E    1.00\n",
      "2024AJ....167...96L    1.00\n",
      "2024A&A...681L...7G    1.00\n",
      "2024ApJS..274....8Y    1.00\n",
      "2024ApJS..273...20G    1.00\n",
      "2024ApJ...966..166B    1.00\n",
      "2024A&A...683L...8A    1.00\n",
      "2024ApJ...975...50L    1.00\n",
      "2024A&A...691A.118K    1.00\n",
      "2024ApJ...975..140L    1.00\n",
      "2024A&A...690A.145S    1.00\n",
      "2024A&A...686A..48N    1.00\n",
      "2024A&A...690A.132W    1.00\n",
      "2024MNRAS.534..608M    1.00\n",
      "2024A&A...689A.163L    1.00\n",
      "2024ApJ...965..153Y    1.00\n",
      "2024A&A...683A..27W    1.00\n",
      "2024Univ...10..316A    1.00\n",
      "\n",
      " Yang, B\n",
      "2024A&A...687A.257W    1.00\n",
      "2024RAA....24j5008C    1.00\n",
      "2024ApJ...963...90Z    1.00\n",
      "\n",
      " Zurlo, A\n",
      "2024A&A...687A.301N    1.00\n",
      "2024ApJ...966...96H    0.50\n",
      "2024ApJ...966L..11P    1.00\n",
      "2024A&A...685A..53G    0.50\n",
      "2024ApJ...963L...2S    1.00\n",
      "2024A&A...685A..54V    1.00\n",
      "2024A&A...685A.119G    1.00\n",
      "2024A&A...684A..69G    1.00\n",
      "2024A&A...686A.309Z    0.50\n",
      "2024A&A...681A..19C    1.00\n",
      "2024A&A...690A.303K    1.00\n",
      "2024A&A...683A..22M    1.00\n",
      "2024MNRAS.527.3837L    1.00\n",
      "2024A&A...685A..52G    1.00\n",
      "2024A&A...688A.149D    1.00\n",
      "2024A&A...687A..74T    1.00\n"
     ]
    }
   ],
   "source": [
    "for name in ppf.keys():\n",
    "    print(\"\\n\",name)\n",
    "    for p in ppf[name]:\n",
    "        print(\"{:22} {:4.2f}\".format(p[0],p[1]))"
   ]
  },
  {
   "cell_type": "code",
   "execution_count": 23,
   "metadata": {},
   "outputs": [],
   "source": [
    "#Save all needed information for pretty plot.\n",
    "cato = open(\"n_papers_2023.txt\",\"w\")\n",
    "for inst in n_papers.keys():\n",
    "    for name in faculty_lists[inst]:\n",
    "        n = 0.0\n",
    "        if name in n_papers[inst]:\n",
    "            n = n_papers[inst][name]\n",
    "        cato.write(\"{:10s} {:20s} {:5.1f}\\n\".format(inst, name, n))\n",
    "cato.close()"
   ]
  }
 ],
 "metadata": {
  "kernelspec": {
   "display_name": "stenv",
   "language": "python",
   "name": "python3"
  },
  "language_info": {
   "codemirror_mode": {
    "name": "ipython",
    "version": 3
   },
   "file_extension": ".py",
   "mimetype": "text/x-python",
   "name": "python",
   "nbconvert_exporter": "python",
   "pygments_lexer": "ipython3",
   "version": "3.11.3"
  },
  "orig_nbformat": 4
 },
 "nbformat": 4,
 "nbformat_minor": 2
}
