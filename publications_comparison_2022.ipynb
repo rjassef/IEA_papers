{
 "cells": [
  {
   "cell_type": "code",
   "execution_count": 1,
   "metadata": {},
   "outputs": [],
   "source": [
    "import ads\n",
    "import numpy as np\n",
    "import matplotlib.pyplot as plt\n",
    "import re\n",
    "from unidecode import unidecode\n",
    "from astropy.time import Time"
   ]
  },
  {
   "cell_type": "code",
   "execution_count": 2,
   "metadata": {},
   "outputs": [],
   "source": [
    "faculty_lists = dict()"
   ]
  },
  {
   "cell_type": "code",
   "execution_count": 3,
   "metadata": {},
   "outputs": [],
   "source": [
    "#List of Astro faculty\n",
    "faculty_lists['UCH'] = [\n",
    "    'Blanc, G',\n",
    "    'Bronfman, L',\n",
    "    'Campusano, L',\n",
    "    'Casassus, S',\n",
    "    'Costa, E',\n",
    "    'Escala, A',\n",
    "    'Finger, R',\n",
    "    'Forster, F.',\n",
    "    'Lira, P',\n",
    "    'Lopez, S',\n",
    "    'Mardones, D',\n",
    "    'Max Moerbeck, W', \n",
    "    'Maza, J',\n",
    "    'Mendez, R', \n",
    "    'Munoz, R',\n",
    "    'Perez, L', \n",
    "    'Rojo, P', \n",
    "    'Rubio, M',\n",
    "    'Ruiz, M'\n",
    "]"
   ]
  },
  {
   "cell_type": "code",
   "execution_count": 4,
   "metadata": {},
   "outputs": [],
   "source": [
    "faculty_lists['UDP'] = [\n",
    "    \"Aravena, M\",\n",
    "    \"Assef, R\",\n",
    "    \"Cieza, L\",\n",
    "    \"Jenkins, J\",\n",
    "    \"Johnston, E\",\n",
    "    \"Jofre, P\",\n",
    "    \"Mazzucchelli, C\",\n",
    "    \"Prieto, J\",\n",
    "    \"Ricci, C\",\n",
    "    \"Yang, B\",\n",
    "    \"Zurlo, A\"\n",
    "]"
   ]
  },
  {
   "cell_type": "code",
   "execution_count": 5,
   "metadata": {},
   "outputs": [],
   "source": [
    "faculty_lists['PUC'] = [\n",
    "    'Aguilera Gomez, C',\n",
    "    'Barrientos, L', \n",
    "    'Bauer, F', \n",
    "    'Catelan, M',\n",
    "    'Chaname, J', \n",
    "    'Clocchiatti, A',\n",
    "    'Dunner, R',\n",
    "    'Galaz, G',\n",
    "    'Guzman, V',\n",
    "    'Petrovich, C',\n",
    "    'Puzia, T',\n",
    "    'Tissera, P',\n",
    "    'Treister, E',\n",
    "    'Zoccali, M'\n",
    "]"
   ]
  },
  {
   "cell_type": "code",
   "execution_count": 6,
   "metadata": {},
   "outputs": [],
   "source": [
    "faculty_lists['UNAB'] = [\n",
    "    'Anguita, T', \n",
    "    'Caceres, C', \n",
    "    'Chemin, L',\n",
    "    'Gavignaud, I',\n",
    "    'Gomez Camus, M', \n",
    "    'Guaita, L',\n",
    "    'Masetti, N', \n",
    "    'Minniti, D', \n",
    "    'Monaco, L', \n",
    "    'Nantais, J',\n",
    "    'Pignata, G',\n",
    "    'Ohnaka, K',\n",
    "]"
   ]
  },
  {
   "cell_type": "code",
   "execution_count": 7,
   "metadata": {},
   "outputs": [],
   "source": [
    "#https://fisica.usm.cl/departamento/academicos-y-docentes/\n",
    "faculty_lists['UTSM'] = [\n",
    "    'Jaffe, Y', \n",
    "    'Montero Dorta, A',\n",
    "    'Schreiber, M',\n",
    "    'Smith, R', \n",
    "    'Toloza, O',\n",
    "]"
   ]
  },
  {
   "cell_type": "code",
   "execution_count": 8,
   "metadata": {},
   "outputs": [],
   "source": [
    "faculty_lists[\"UAI\"] = [\n",
    "    'Benitez Llambay, P', \n",
    "    'Brahm, R', \n",
    "    'Cuadra, J',\n",
    "    'Jordan, A', \n",
    "    'Mulders, G', \n",
    "    'Munoz, D', \n",
    "]"
   ]
  },
  {
   "cell_type": "code",
   "execution_count": 9,
   "metadata": {},
   "outputs": [],
   "source": [
    "faculty_lists[\"UTA\"] = [\n",
    "    'Boquien, M', \n",
    "    'Carballo Bello, J', \n",
    "    'Rojas Ayala, B'\n",
    "]"
   ]
  },
  {
   "cell_type": "code",
   "execution_count": 10,
   "metadata": {},
   "outputs": [],
   "source": [
    "#Search for all papers from UDP in ADS in a given year.\n",
    "def paper_search(year, affs=\"portales\"):\n",
    "    q = ads.SearchQuery(aff=affs, year=year, fl=[\"author\", \"citation_count\", \"aff\", \"property\", \"doctype\", \"title\", \"pubdate\", \"bibcode\"], max_pages=100)\n",
    "    ql = list(q)\n",
    "    return ql"
   ]
  },
  {
   "cell_type": "code",
   "execution_count": 11,
   "metadata": {},
   "outputs": [],
   "source": [
    "def proc_name(input_name):\n",
    "    name = unidecode(input_name)\n",
    "    name = re.sub(\"-\",\" \", name)\n",
    "    name = re.sub(\"^(.*?\\, .).*$\",r\"\\1\", name)\n",
    "    return name"
   ]
  },
  {
   "cell_type": "code",
   "execution_count": 12,
   "metadata": {},
   "outputs": [],
   "source": [
    "#Distribute publications between UDP authors.\n",
    "def get_n_papers(ads_query_list, faculty, only_faculty=False, affs=[\"portales\"]):\n",
    "    n_papers = dict()\n",
    "    for paper in ads_query_list:\n",
    "\n",
    "        #Only process refereed articles.\n",
    "        if paper.property is not None and 'REFEREED' in paper.property and paper.doctype=='article':\n",
    "            pass\n",
    "        else:\n",
    "            continue\n",
    "\n",
    "        inst_auth = list()\n",
    "        for k in range(len(paper.author)):\n",
    "            name = proc_name(paper.author[k])\n",
    "            if len(faculty)==0 or name in faculty:\n",
    "                found_aff = True\n",
    "                for aff in affs:\n",
    "                    if not re.search(aff, unidecode(paper.aff[k]), flags=re.IGNORECASE):\n",
    "                        found_aff = False\n",
    "                if found_aff:\n",
    "                    inst_auth.append(name)\n",
    "        for name in inst_auth:\n",
    "            if name in n_papers:\n",
    "                n_papers[name] += 1./len(inst_auth)\n",
    "            else:\n",
    "                n_papers[name] = 1./len(inst_auth)\n",
    "    return n_papers"
   ]
  },
  {
   "cell_type": "code",
   "execution_count": 13,
   "metadata": {},
   "outputs": [],
   "source": [
    "ql = dict()\n",
    "aff_search = dict()\n",
    "n_papers = dict()"
   ]
  },
  {
   "cell_type": "code",
   "execution_count": 14,
   "metadata": {},
   "outputs": [],
   "source": [
    "# aff_search[\"UCH\"] = \"Universidad de Chile\"\n",
    "# aff_search[\"UDP\"] = \"portales\"\n",
    "# aff_search[\"PUC\"] = \"Pontificia Universidad Catolica de Chile\"\n",
    "# aff_search[\"UNAB\"] = \"Universidad Andres Bello\"\n",
    "# aff_search[\"UTSM\"] = \"Universidad Tecnica Federico Santa Maria\"\n",
    "# aff_search[\"UAI\"] = \"Universidad Adolfo Ibanez\"\n",
    "# aff_search[\"UTA\"] = \"Universidad de Tarapaca\"\n",
    "aff_search[\"UCH\"] = \"Universidad de Chile\"\n",
    "aff_search[\"UDP\"] = \"portales\"\n",
    "aff_search[\"PUC\"] = \"Universidad Catolica\"\n",
    "aff_search[\"UNAB\"] = \"Andres Bello\"\n",
    "#aff_search[\"UTSM\"] = \"Santa Maria\"\n",
    "aff_search[\"UAI\"] = \"Adolfo Ibanez\"\n",
    "aff_search[\"UTA\"] = \"Tarapaca\""
   ]
  },
  {
   "cell_type": "code",
   "execution_count": 15,
   "metadata": {},
   "outputs": [],
   "source": [
    "for key in aff_search.keys():\n",
    "    if key not in ql:\n",
    "        ql[key] = paper_search(2022, affs=aff_search[key])"
   ]
  },
  {
   "cell_type": "code",
   "execution_count": 16,
   "metadata": {},
   "outputs": [],
   "source": [
    "# inst = \"UDP\"\n",
    "# #ql[inst] = paper_search(2023, affs=aff_search[inst])\n",
    "# n_papers[inst] = get_n_papers(ql[inst], faculty_lists[inst], only_faculty=True, affs=[aff_search[inst]])\n",
    "# np.unique(list(n_papers[inst].keys()))"
   ]
  },
  {
   "cell_type": "code",
   "execution_count": 17,
   "metadata": {},
   "outputs": [],
   "source": [
    "#Sort dividing papers as they go for incentivos.\n",
    "for key in ql.keys():\n",
    "    n_papers[key] = get_n_papers(ql[key], faculty_lists[key], only_faculty=True, affs=[aff_search[key]])"
   ]
  },
  {
   "cell_type": "code",
   "execution_count": 18,
   "metadata": {},
   "outputs": [
    {
     "name": "stdout",
     "output_type": "stream",
     "text": [
      "UCH 5.5\n",
      "UDP 8.833333333333332\n",
      "PUC 4.333333333333333\n",
      "UNAB 7.0\n",
      "UAI 5.0\n",
      "UTA 4.0\n"
     ]
    },
    {
     "data": {
      "text/plain": [
       "Text(0, 0.5, 'Numero de articulos')"
      ]
     },
     "execution_count": 18,
     "metadata": {},
     "output_type": "execute_result"
    },
    {
     "data": {
      "image/png": "[encoded data removed]",
      "text/plain": [
       "<Figure size 640x480 with 1 Axes>"
      ]
     },
     "metadata": {},
     "output_type": "display_data"
    }
   ],
   "source": [
    "list_for_plots = list()\n",
    "keys = list(n_papers.keys())\n",
    "median_papers = dict()\n",
    "for key in keys:\n",
    "    median_papers[key] = np.median(list(n_papers[key].values()))\n",
    "    print(key, median_papers[key])\n",
    "keys = sorted(keys, key=lambda k:median_papers[k])\n",
    "for key in keys:\n",
    "    list_for_plots.append(list(n_papers[key].values()))\n",
    "plt.boxplot(list_for_plots, whis=3.0, labels=keys, whiskerprops={'color':'gray'}, capprops={'color':'gray'})\n",
    "plt.ylabel(\"Numero de articulos\")"
   ]
  },
  {
   "cell_type": "code",
   "execution_count": 19,
   "metadata": {},
   "outputs": [],
   "source": [
    "#Get list for Jose.\n",
    "def get_papers_per_faculty(ads_query_list, faculty, only_faculty=False, affs=[\"portales\"]):\n",
    "    papers_per_faculty = dict()\n",
    "    for name in faculty:\n",
    "        papers_per_faculty[name] = list()\n",
    "    for paper in ads_query_list:\n",
    "\n",
    "        #Only process refereed articles.\n",
    "        if paper.property is not None and 'REFEREED' in paper.property and paper.doctype=='article':\n",
    "            pass\n",
    "        else:\n",
    "            continue\n",
    "\n",
    "        inst_auth = list()\n",
    "        for k in range(len(paper.author)):\n",
    "            name = proc_name(paper.author[k])\n",
    "            if len(faculty)==0 or name in faculty:\n",
    "                found_aff = True\n",
    "                for aff in affs:\n",
    "                    if not re.search(aff, unidecode(paper.aff[k]), flags=re.IGNORECASE):\n",
    "                        found_aff = False\n",
    "                if found_aff:\n",
    "                    inst_auth.append(name)\n",
    "        for name in inst_auth:\n",
    "            papers_per_faculty[name].append([paper.bibcode, 1./len(inst_auth)])\n",
    "    return papers_per_faculty"
   ]
  },
  {
   "cell_type": "code",
   "execution_count": 20,
   "metadata": {},
   "outputs": [],
   "source": [
    "ppf = get_papers_per_faculty(ql['UDP'], faculty_lists['UDP'], affs=[aff_search['UDP']])"
   ]
  },
  {
   "cell_type": "code",
   "execution_count": 21,
   "metadata": {},
   "outputs": [
    {
     "name": "stdout",
     "output_type": "stream",
     "text": [
      "\n",
      " Aravena, M\n",
      "2022ApJ...935...17S    0.50\n",
      "2022ApJ...927...65G    1.00\n",
      "2022A&A...660A.137G    1.00\n",
      "2022ApJ...924...76A    1.00\n",
      "2022ApJ...931..160B    1.00\n",
      "2022MNRAS.515.3126I    1.00\n",
      "2022MNRAS.512...58F    1.00\n",
      "2022MNRAS.512..989D    1.00\n",
      "2022MNRAS.513.3122S    1.00\n",
      "2022MNRAS.515.1751W    1.00\n",
      "2022MNRAS.517.5642E    1.00\n",
      "2022ApJ...934..144F    1.00\n",
      "2022ApJ...934L..27H    1.00\n",
      "2022ApJ...929L...3S    1.00\n",
      "2022A&A...667A.156B    1.00\n",
      "2022MNRAS.512.4352H    1.00\n",
      "2022ApJ...925...23M    1.00\n",
      "2022MNRAS.510.3119W    1.00\n",
      "2022A&A...663A..22G    1.00\n",
      "2022A&A...666A..56M    1.00\n",
      "2022ApJ...928..179L    1.00\n",
      "\n",
      " Assef, R\n",
      "2022ApJ...939L..16Z    0.50\n",
      "2022ApJS..262...49K    0.50\n",
      "2022ApJS..261....5M    0.50\n",
      "2022ApJ...934..101A    1.00\n",
      "\n",
      " Cieza, L\n",
      "2022ApJ...938...54R    0.33\n",
      "2022MNRAS.510.1248M    0.50\n",
      "2022MNRAS.515.2646R    1.00\n",
      "\n",
      " Jenkins, J\n",
      "2022A&A...664A..94P    1.00\n",
      "2022MNRAS.513.2719V    1.00\n",
      "2022A&A...666A..46U    1.00\n",
      "2022A&A...666A.184P    1.00\n",
      "2022MNRAS.510.5464K    1.00\n",
      "2022MNRAS.516..298D    1.00\n",
      "2022MNRAS.513..420B    1.00\n",
      "2022MNRAS.517.4447A    1.00\n",
      "2022MNRAS.513.1785G    1.00\n",
      "\n",
      " Johnston, E\n",
      "2022ApJ...935...17S    0.50\n",
      "2022MNRAS.517.2214F    1.00\n",
      "2022MNRAS.514.6141J    1.00\n",
      "2022MNRAS.514.6120J    1.00\n",
      "2022A&A...664A..92H    1.00\n",
      "2022MNRAS.513..256D    1.00\n",
      "2022ApJ...940L..37G    1.00\n",
      "2022MNRAS.511..393E    1.00\n",
      "2022MNRAS.515..201C    1.00\n",
      "\n",
      " Jofre, P\n",
      "2022ApJ...938...54R    0.33\n",
      "2022MNRAS.513.1557C    1.00\n",
      "2022A&A...664A..31C    1.00\n",
      "2022MNRAS.509.4637D    0.50\n",
      "2022MNRAS.517.6121V    1.00\n",
      "2022A&A...666A.121R    1.00\n",
      "2022A&A...666A.120G    1.00\n",
      "2022MNRAS.509.1664J    1.00\n",
      "2022A&A...661A.120B    1.00\n",
      "2022A&A...668A..49F    1.00\n",
      "\n",
      " Mazzucchelli, C\n",
      "2022ApJ...941..106F    1.00\n",
      "2022ApJ...941..114J    1.00\n",
      "\n",
      " Prieto, J\n",
      "2022MNRAS.509.4637D    0.50\n",
      "2022A&A...666L..14D    1.00\n",
      "2022ApJ...928..138P    1.00\n",
      "2022MNRAS.517.2190R    1.00\n",
      "2022MNRAS.513.5666B    1.00\n",
      "2022ApJS..259...53C    1.00\n",
      "2022ApJ...937...64K    1.00\n",
      "2022ApJ...933..196H    1.00\n",
      "2022MNRAS.513.5642B    1.00\n",
      "2022A&A...667A..53P    1.00\n",
      "2022MNRAS.517.2746L    1.00\n",
      "2022PASP..134b4201C    1.00\n",
      "\n",
      " Ricci, C\n",
      "2022ApJ...938...87K    1.00\n",
      "2022ApJ...939L..16Z    0.50\n",
      "2022A&A...664A..46A    1.00\n",
      "2022ApJS..261....2K    1.00\n",
      "2022ApJ...938...67R    1.00\n",
      "2022ApJS..262...49K    0.50\n",
      "2022ApJ...939L..13A    1.00\n",
      "2022ApJS..261....5M    0.50\n",
      "2022MNRAS.509.3599T    1.00\n",
      "2022ApJS..261....9A    1.00\n",
      "2022MNRAS.511.2105K    1.00\n",
      "2022ApJ...934...35M    1.00\n",
      "2022ApJS..261....1K    1.00\n",
      "2022ApJ...940...52S    1.00\n",
      "2022ApJS..261....8R    1.00\n",
      "2022ApJS..261....4O    1.00\n",
      "2022ApJ...935...72M    1.00\n",
      "2022ApJ...933...70L    1.00\n",
      "2022MNRAS.512.3906R    1.00\n",
      "2022A&A...657A..57L    1.00\n",
      "2022ApJS..261....7D    1.00\n",
      "2022ApJS..261....6K    1.00\n",
      "2022ApJS..260...30T    1.00\n",
      "2022ApJ...927...42K    1.00\n",
      "2022ApJ...940...77M    1.00\n",
      "2022MNRAS.511.5768A    1.00\n",
      "2022ApJ...938...77P    1.00\n",
      "2022ApJ...940....7F    1.00\n",
      "2022ApJS..261....3P    1.00\n",
      "2022ApJ...931...77D    1.00\n",
      "2022MNRAS.512.5942J    1.00\n",
      "2022ApJ...939...88I    1.00\n",
      "2022MNRAS.512.2961M    1.00\n",
      "\n",
      " Yang, B\n",
      "2022ApJ...939L...9H    1.00\n",
      "2022A&A...662A..71F    1.00\n",
      "2022ApJ...924L...9H    1.00\n",
      "\n",
      " Zurlo, A\n",
      "2022ApJ...938...54R    0.33\n",
      "2022A&A...666A.133Z    1.00\n",
      "2022A&A...663A.144B    1.00\n",
      "2022MNRAS.510.1248M    0.50\n",
      "2022A&A...668A.138H    1.00\n",
      "2022A&A...664A.139D    1.00\n",
      "2022ApJ...930..171H    1.00\n",
      "2022A&A...666A..32X    1.00\n",
      "2022MNRAS.516..391L    1.00\n",
      "2022MNRAS.510..205P    1.00\n",
      "2022A&A...658A..63M    1.00\n",
      "2022A&A...666A..16C    1.00\n",
      "2022A&A...665A..73M    1.00\n",
      "2022A&A...658A.145B    1.00\n",
      "2022A&A...662A..74G    1.00\n"
     ]
    }
   ],
   "source": [
    "for name in ppf.keys():\n",
    "    print(\"\\n\",name)\n",
    "    for p in ppf[name]:\n",
    "        print(\"{:22} {:4.2f}\".format(p[0],p[1]))"
   ]
  }
 ],
 "metadata": {
  "kernelspec": {
   "display_name": "astroconda",
   "language": "python",
   "name": "python3"
  },
  "language_info": {
   "codemirror_mode": {
    "name": "ipython",
    "version": 3
   },
   "file_extension": ".py",
   "mimetype": "text/x-python",
   "name": "python",
   "nbconvert_exporter": "python",
   "pygments_lexer": "ipython3",
   "version": "3.11.3"
  },
  "orig_nbformat": 4
 },
 "nbformat": 4,
 "nbformat_minor": 2
}
