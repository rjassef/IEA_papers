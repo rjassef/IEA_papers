{
 "cells": [
  {
   "cell_type": "code",
   "execution_count": 1,
   "metadata": {},
   "outputs": [],
   "source": [
    "import ads\n",
    "import numpy as np\n",
    "import matplotlib.pyplot as plt\n",
    "import re\n",
    "from unidecode import unidecode\n",
    "from astropy.time import Time"
   ]
  },
  {
   "cell_type": "code",
   "execution_count": 2,
   "metadata": {},
   "outputs": [],
   "source": [
    "faculty_lists = dict()"
   ]
  },
  {
   "cell_type": "code",
   "execution_count": 3,
   "metadata": {},
   "outputs": [],
   "source": [
    "#List of Astro faculty\n",
    "faculty_lists['UCH'] = [\n",
    "    'Blanc, G',\n",
    "    'Bronfman, L',\n",
    "    'Campusano, L',\n",
    "    'Casassus, S',\n",
    "    'Costa, E',\n",
    "    'Escala, A',\n",
    "    'Finger, R',\n",
    "    'Forster, F.',\n",
    "    'Lira, P',\n",
    "    'Lopez, S',\n",
    "    'Mardones, D',\n",
    "    'Max Moerbeck, W', \n",
    "    'Maza, J',\n",
    "    'Mendez, R', \n",
    "    'Munoz, R',\n",
    "    'Perez, L', \n",
    "    'Rojo, P', \n",
    "    'Rubio, M',\n",
    "    'Ruiz, M'\n",
    "]"
   ]
  },
  {
   "cell_type": "code",
   "execution_count": 4,
   "metadata": {},
   "outputs": [],
   "source": [
    "faculty_lists['UDP'] = [\n",
    "    \"Aravena, M\",\n",
    "    \"Assef, R\",\n",
    "    \"Cieza, L\",\n",
    "    \"Jenkins, J\",\n",
    "    \"Johnston, E\",\n",
    "    \"Jofre, P\",\n",
    "    \"Mazzucchelli, C\",\n",
    "    \"Prieto, J\",\n",
    "    \"Ricci, C\",\n",
    "    \"Yang, B\",\n",
    "    \"Zurlo, A\"\n",
    "]"
   ]
  },
  {
   "cell_type": "code",
   "execution_count": 5,
   "metadata": {},
   "outputs": [],
   "source": [
    "faculty_lists['PUC'] = [\n",
    "    'Aguilera Gomez, C',\n",
    "    'Barrientos, L', \n",
    "    'Bauer, F', \n",
    "    'Catelan, M',\n",
    "    'Chaname, J', \n",
    "    'Clocchiatti, A',\n",
    "    'Dunner, R',\n",
    "    'Galaz, G',\n",
    "    'Guzman, V',\n",
    "    'Petrovich, C',\n",
    "    'Puzia, T',\n",
    "    'Tissera, P',\n",
    "    'Treister, E',\n",
    "    'Zoccali, M'\n",
    "]"
   ]
  },
  {
   "cell_type": "code",
   "execution_count": 6,
   "metadata": {},
   "outputs": [],
   "source": [
    "faculty_lists['UNAB'] = [\n",
    "    'Anguita, T', \n",
    "    'Caceres, C', \n",
    "    'Chemin, L',\n",
    "    'Gavignaud, I',\n",
    "    'Gomez Camus, M', \n",
    "    'Guaita, L',\n",
    "    'Masetti, N', \n",
    "    'Minniti, D', \n",
    "    'Monaco, L', \n",
    "    'Nantais, J',\n",
    "    'Ohnaka, K',\n",
    "]"
   ]
  },
  {
   "cell_type": "code",
   "execution_count": 7,
   "metadata": {},
   "outputs": [],
   "source": [
    "#https://fisica.usm.cl/departamento/academicos-y-docentes/\n",
    "faculty_lists['UTSM'] = [\n",
    "    'Jaffe, Y', \n",
    "    'Montero Dorta, A',\n",
    "    'Schreiber, M',\n",
    "    'Smith, R', \n",
    "    'Toloza, O',\n",
    "]"
   ]
  },
  {
   "cell_type": "code",
   "execution_count": 8,
   "metadata": {},
   "outputs": [],
   "source": [
    "faculty_lists[\"UAI\"] = [\n",
    "    'Benitez Llambay, P', \n",
    "    'Brahm, R', \n",
    "    'Cuadra, J',\n",
    "    'Jordan, A', \n",
    "    'Mulders, G', \n",
    "    'Munoz, D', \n",
    "]"
   ]
  },
  {
   "cell_type": "code",
   "execution_count": 9,
   "metadata": {},
   "outputs": [],
   "source": [
    "faculty_lists[\"UTA\"] = [\n",
    "    'Boquien, M', \n",
    "    'Carballo Bello, J', \n",
    "    'Pignata, G',\n",
    "    'Rojas Ayala, B'\n",
    "]"
   ]
  },
  {
   "cell_type": "code",
   "execution_count": 10,
   "metadata": {},
   "outputs": [],
   "source": [
    "#Search for all papers from UDP in ADS in a given year.\n",
    "def paper_search(year, affs=\"portales\"):\n",
    "    q = ads.SearchQuery(aff=affs, year=year, fl=[\"author\", \"citation_count\", \"aff\", \"property\", \"doctype\", \"title\", \"pubdate\"], max_pages=100)\n",
    "    ql = list(q)\n",
    "    return ql"
   ]
  },
  {
   "cell_type": "code",
   "execution_count": 11,
   "metadata": {},
   "outputs": [],
   "source": [
    "def proc_name(input_name):\n",
    "    name = unidecode(input_name)\n",
    "    name = re.sub(\"-\",\" \", name)\n",
    "    name = re.sub(\"^(.*?\\, .).*$\",r\"\\1\", name)\n",
    "    return name"
   ]
  },
  {
   "cell_type": "code",
   "execution_count": 23,
   "metadata": {},
   "outputs": [],
   "source": [
    "#Distribute publications between UDP authors.\n",
    "def get_n_papers(ads_query_list, faculty, only_faculty=False, affs=[\"portales\"]):\n",
    "    n_papers = dict()\n",
    "    for paper in ads_query_list:\n",
    "\n",
    "        #Only process refereed articles.\n",
    "        if paper.property is not None and 'REFEREED' in paper.property and paper.doctype=='article':\n",
    "            pass\n",
    "        else:\n",
    "            continue\n",
    "\n",
    "        inst_auth = list()\n",
    "        for k in range(len(paper.author)):\n",
    "            name = proc_name(paper.author[k])\n",
    "            if len(faculty)==0 or name in faculty:\n",
    "                found_aff = True\n",
    "                for aff in affs:\n",
    "                    if not re.search(aff, unidecode(paper.aff[k]), flags=re.IGNORECASE):\n",
    "                        found_aff = False\n",
    "                if found_aff:\n",
    "                    inst_auth.append(name)\n",
    "        for name in inst_auth:\n",
    "            if name in n_papers:\n",
    "                n_papers[name] += 1./len(inst_auth)\n",
    "            else:\n",
    "                n_papers[name] = 1./len(inst_auth)\n",
    "    return n_papers"
   ]
  },
  {
   "cell_type": "code",
   "execution_count": 13,
   "metadata": {},
   "outputs": [],
   "source": [
    "ql = dict()\n",
    "aff_search = dict()\n",
    "n_papers = dict()"
   ]
  },
  {
   "cell_type": "code",
   "execution_count": 14,
   "metadata": {},
   "outputs": [],
   "source": [
    "aff_search[\"UCH\"] = \"Universidad de Chile\"\n",
    "aff_search[\"UDP\"] = \"portales\"\n",
    "aff_search[\"PUC\"] = \"Pontificia Universidad Catolica de Chile\"\n",
    "aff_search[\"UNAB\"] = \"Universidad Andres Bello\"\n",
    "aff_search[\"UTSM\"] = \"Universidad Tecnica Federico Santa Maria\"\n",
    "aff_search[\"UAI\"] = \"Universidad Adolfo Ibanez\"\n",
    "aff_search[\"UTA\"] = \"Universidad de Tarapaca\""
   ]
  },
  {
   "cell_type": "code",
   "execution_count": 15,
   "metadata": {},
   "outputs": [],
   "source": [
    "for key in aff_search.keys():\n",
    "    if key not in ql:\n",
    "        ql[key] = paper_search(2022, affs=aff_search[key])"
   ]
  },
  {
   "cell_type": "code",
   "execution_count": 16,
   "metadata": {},
   "outputs": [],
   "source": [
    "# inst = \"UDP\"\n",
    "# #ql[inst] = paper_search(2023, affs=aff_search[inst])\n",
    "# n_papers[inst] = get_n_papers(ql[inst], faculty_lists[inst], only_faculty=True, affs=[aff_search[inst]])\n",
    "# np.unique(list(n_papers[inst].keys()))"
   ]
  },
  {
   "cell_type": "code",
   "execution_count": 24,
   "metadata": {},
   "outputs": [],
   "source": [
    "#Sort dividing papers as they go for incentivos.\n",
    "for key in ql.keys():\n",
    "    n_papers[key] = get_n_papers(ql[key], faculty_lists[key], only_faculty=True, affs=[aff_search[key]])"
   ]
  },
  {
   "cell_type": "code",
   "execution_count": 25,
   "metadata": {},
   "outputs": [
    {
     "name": "stdout",
     "output_type": "stream",
     "text": [
      "UCH 5.5\n",
      "UDP 8.833333333333332\n",
      "PUC 4.333333333333333\n",
      "UNAB 5.0\n",
      "UTSM 4.5\n",
      "UAI 5.0\n",
      "UTA 4.0\n"
     ]
    },
    {
     "data": {
      "text/plain": [
       "Text(0, 0.5, 'Numero de articulos')"
      ]
     },
     "execution_count": 25,
     "metadata": {},
     "output_type": "execute_result"
    },
    {
     "data": {
      "image/png": "[encoded data removed]",
      "text/plain": [
       "<Figure size 640x480 with 1 Axes>"
      ]
     },
     "metadata": {},
     "output_type": "display_data"
    }
   ],
   "source": [
    "list_for_plots = list()\n",
    "keys = list(n_papers.keys())\n",
    "median_papers = dict()\n",
    "for key in keys:\n",
    "    median_papers[key] = np.median(list(n_papers[key].values()))\n",
    "    print(key, median_papers[key])\n",
    "keys = sorted(keys, key=lambda k:median_papers[k])\n",
    "for key in keys:\n",
    "    list_for_plots.append(list(n_papers[key].values()))\n",
    "plt.boxplot(list_for_plots, labels=keys)\n",
    "plt.ylabel(\"Numero de articulos\")"
   ]
  },
  {
   "cell_type": "code",
   "execution_count": 19,
   "metadata": {},
   "outputs": [
    {
     "name": "stdout",
     "output_type": "stream",
     "text": [
      "1 ['BASS XXXII: Studying the Nuclear Millimeter-wave Continuum Emission of AGNs with ALMA at Scales ≲100-200 pc']\n",
      "4 ['A Transient \"Changing-look\" Active Galactic Nucleus Resolved on Month Timescales from First-year Sloan Digital Sky Survey V Data']\n",
      "5 ['Localizing narrow Fe Kα emission within bright AGN']\n",
      "6 ['BASS. XXII. The BASS DR2 AGN Catalog and Data']\n",
      "8 ['BASS XXXVII: The Role of Radiative Feedback in the Growth and Obscuration Properties of Nearby Supermassive Black Holes']\n",
      "12 ['The LSST Era of Supermassive Black Hole Accretion Disk Reverberation Mapping']\n",
      "14 ['Probing the Structure and Evolution of BASS Active Galactic Nuclei through Eddington Ratios']\n",
      "15 ['BASS. XXV. DR2 Broad-line-based Black Hole Mass Estimates and Biases from Obscuration']\n",
      "21 ['The extreme properties of the nearby hyper-Eddington accreting active galactic nucleus in IRAS 04416+1215']\n",
      "39 ['BASS. XXX. Distribution Functions of DR2 Eddington Ratios, Black Hole Masses, and X-Ray Luminosities']\n",
      "53 ['Evolution of a Relativistic Outflow and X-Ray Corona in the Extreme Changing-look AGN 1ES 1927+654']\n",
      "55 ['BASS XXXI: Outflow scaling relations in low redshift X-ray AGN host galaxies with MUSE']\n",
      "58 ['BASS. XXIV. The BASS DR2 Spectroscopic Line Measurements and AGN Demographics']\n",
      "59 ['BASS. XXI. The Data Release 2 Overview']\n",
      "62 ['Characterizing Compact 15-33 GHz Radio Continuum Sources in Local U/LIRGs']\n",
      "64 ['Ionized Outflows in Nearby Quasars Are Poorly Coupled to Their Host Galaxies']\n",
      "65 ['BASS. XXIX. The Near-infrared View of the Broad-line Region (BLR): The Effects of Obscuration in BLR Characterization']\n",
      "69 ['BASS. XXVIII. Near-infrared Data Release 2: High-ionization and Broad Lines in Active Galactic Nuclei']\n",
      "70 ['The Host Galaxy and Rapidly Evolving Broad-line Region in the Changing-look Active Galactic Nucleus 1ES 1927+654']\n",
      "73 ['Gemini NIFS survey of feeding and feedback processes in nearby active galaxies - VI. Stellar populations']\n",
      "76 ['X-ray spectroscopic survey of highly accreting AGN']\n",
      "79 ['BASS. XXVI. DR2 Host Galaxy Stellar Velocity Dispersions']\n",
      "80 ['NuSTAR Observations of 52 Compton-thick Active Galactic Nuclei Selected by the Swift/Burst Alert Telescope All-sky Hard X-Ray Survey']\n",
      "85 ['X-Ray Coronal Properties of Swift/BAT-selected Seyfert 1 Active Galactic Nuclei']\n",
      "88 ['BASS. XXXIII. Swift-BAT Blazars and Their Jets through Cosmic Time']\n",
      "96 ['A multiwavelength-motivated X-ray model for the Circinus Galaxy']\n",
      "100 ['BASS. XXXVI. Constraining the Local Supermassive Black Hole-Halo Connection with BASS DR2 AGNs']\n",
      "107 ['H1821+643: The Most X-Ray and Infrared Luminous Active Galactic Nucleus (AGN) in the Swift/BAT Survey in the Process of Rapid Stellar and Supermassive Black Hole Mass Assembly']\n",
      "115 ['BASS. XXIII. A New Mid-infrared Diagnostic for Absorption in Active Galactic Nuclei']\n",
      "118 ['Broadband X-Ray Spectral Analysis of the Dual AGN System Mrk 739']\n",
      "121 ['Accretion Disk Outflow during the X-Ray Flare of the Super-Eddington Active Nucleus of I Zwicky 1']\n",
      "122 ['Absorption variability of the highly obscured active galactic nucleus NGC 4507']\n",
      "129 ['X-ray simulations of polar gas in accreting supermassive black holes']\n",
      "138 ['Evolution of a Relativistic Outflow and the X-ray Corona and in the Extreme Changing-Look AGN 1ES 1927+654']\n",
      "155 [\"X-ray Simulations of Polar Gas in Accreting Supermassive Black Holes'\"]\n"
     ]
    }
   ],
   "source": [
    "for k,paper in enumerate(ql[\"UDP\"]):\n",
    "    for author in paper.author:\n",
    "        if proc_name(author) == \"Ricci, C\":\n",
    "            print(k, paper.title)"
   ]
  },
  {
   "cell_type": "code",
   "execution_count": 20,
   "metadata": {},
   "outputs": [
    {
     "name": "stdout",
     "output_type": "stream",
     "text": [
      "['A Transient \"Changing-look\" Active Galactic Nucleus Resolved on Month Timescales from First-year Sloan Digital Sky Survey V Data']\n",
      "['Evolution of a Relativistic Outflow and X-Ray Corona in the Extreme Changing-look AGN 1ES 1927+654']\n",
      "['The Host Galaxy and Rapidly Evolving Broad-line Region in the Changing-look Active Galactic Nucleus 1ES 1927+654']\n",
      "['Evolution of a Relativistic Outflow and the X-ray Corona and in the Extreme Changing-Look AGN 1ES 1927+654']\n"
     ]
    }
   ],
   "source": [
    "for k,paper in enumerate(ql[\"UDP\"]):\n",
    "    if re.search(\"Changing\",paper.title[0]):\n",
    "        print(paper.title)"
   ]
  },
  {
   "cell_type": "code",
   "execution_count": 21,
   "metadata": {},
   "outputs": [
    {
     "data": {
      "text/plain": [
       "{'Cieza, L': 3.0,\n",
       " 'Jofre, P': 10.0,\n",
       " 'Zurlo, A': 15.0,\n",
       " 'Ricci, C': 33.0,\n",
       " 'Aravena, M': 21.0,\n",
       " 'Johnston, E': 9.0,\n",
       " 'Assef, R': 4.0,\n",
       " 'Jenkins, J': 9.0,\n",
       " 'Prieto, J': 12.0,\n",
       " 'Mazzucchelli, C': 2.0,\n",
       " 'Yang, B': 3.0}"
      ]
     },
     "execution_count": 21,
     "metadata": {},
     "output_type": "execute_result"
    }
   ],
   "source": [
    "n_papers[\"UDP\"]"
   ]
  },
  {
   "cell_type": "code",
   "execution_count": null,
   "metadata": {},
   "outputs": [],
   "source": []
  }
 ],
 "metadata": {
  "kernelspec": {
   "display_name": "astroconda",
   "language": "python",
   "name": "python3"
  },
  "language_info": {
   "codemirror_mode": {
    "name": "ipython",
    "version": 3
   },
   "file_extension": ".py",
   "mimetype": "text/x-python",
   "name": "python",
   "nbconvert_exporter": "python",
   "pygments_lexer": "ipython3",
   "version": "3.11.3"
  },
  "orig_nbformat": 4
 },
 "nbformat": 4,
 "nbformat_minor": 2
}
