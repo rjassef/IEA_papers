{
 "cells": [
  {
   "cell_type": "code",
   "execution_count": 1,
   "metadata": {},
   "outputs": [],
   "source": [
    "import ads\n",
    "import numpy as np\n",
    "import matplotlib.pyplot as plt\n",
    "import re\n",
    "from unidecode import unidecode\n",
    "from astropy.time import Time"
   ]
  },
  {
   "cell_type": "code",
   "execution_count": 2,
   "metadata": {},
   "outputs": [],
   "source": [
    "faculty_lists = dict()"
   ]
  },
  {
   "cell_type": "code",
   "execution_count": 3,
   "metadata": {},
   "outputs": [],
   "source": [
    "#List of Astro faculty\n",
    "faculty_lists['UCH'] = [\n",
    "    'Blanc, G',\n",
    "    'Bronfman, L',\n",
    "    'Campusano, L',\n",
    "    'Casassus, S',\n",
    "    'Costa, E',\n",
    "    'Escala, A',\n",
    "    'Finger, R',\n",
    "    'Forster, F.',\n",
    "    'Lira, P',\n",
    "    'Lopez, S',\n",
    "    'Mardones, D',\n",
    "    'Max Moerbeck, W', \n",
    "    'Maza, J',\n",
    "    'Mendez, R', \n",
    "    'Munoz, R',\n",
    "    'Perez, L', \n",
    "    'Rojo, P', \n",
    "    'Rubio, M',\n",
    "    'Ruiz, M'\n",
    "]"
   ]
  },
  {
   "cell_type": "code",
   "execution_count": 4,
   "metadata": {},
   "outputs": [],
   "source": [
    "faculty_lists['UDP'] = [\n",
    "    \"Aravena, M\",\n",
    "    \"Assef, R\",\n",
    "    \"Cieza, L\",\n",
    "    \"Jenkins, J\",\n",
    "    \"Johnston, E\",\n",
    "    \"Jofre, P\",\n",
    "    \"Mazzucchelli, C\",\n",
    "    \"Prieto, J\",\n",
    "    \"Ricci, C\",\n",
    "    \"Yang, B\",\n",
    "    \"Zurlo, A\"\n",
    "]"
   ]
  },
  {
   "cell_type": "code",
   "execution_count": 5,
   "metadata": {},
   "outputs": [],
   "source": [
    "faculty_lists['PUC'] = [\n",
    "    'Aguilera Gomez, C',\n",
    "    'Barrientos, L', \n",
    "    'Bauer, F', \n",
    "    'Catelan, M',\n",
    "    'Chaname, J', \n",
    "    'Clocchiatti, A',\n",
    "    'Dunner, R',\n",
    "    'Galaz, G',\n",
    "    'Guzman, V',\n",
    "    'Petrovich, C',\n",
    "    'Puzia, T',\n",
    "    'Tissera, P',\n",
    "    'Treister, E',\n",
    "    'Zoccali, M'\n",
    "]"
   ]
  },
  {
   "cell_type": "code",
   "execution_count": 6,
   "metadata": {},
   "outputs": [],
   "source": [
    "faculty_lists['UNAB'] = [\n",
    "    'Anguita, T', \n",
    "    'Caceres, C', \n",
    "    'Chemin, L',\n",
    "    'Gavignaud, I',\n",
    "    'Gomez Camus, M', \n",
    "    'Guaita, L',\n",
    "    'Masetti, N', \n",
    "    'Minniti, D', \n",
    "    'Monaco, L', \n",
    "    'Nantais, J',\n",
    "    'Ohnaka, K',\n",
    "]"
   ]
  },
  {
   "cell_type": "code",
   "execution_count": 7,
   "metadata": {},
   "outputs": [],
   "source": [
    "#https://fisica.usm.cl/departamento/academicos-y-docentes/\n",
    "faculty_lists['UTSM'] = [\n",
    "    'Jaffe, Y', \n",
    "    'Montero Dorta, A',\n",
    "    'Schreiber, M',\n",
    "    'Smith, R', \n",
    "    'Toloza, O',\n",
    "]"
   ]
  },
  {
   "cell_type": "code",
   "execution_count": 8,
   "metadata": {},
   "outputs": [],
   "source": [
    "faculty_lists[\"UAI\"] = [\n",
    "    'Benitez Llambay, P', \n",
    "    'Brahm, R', \n",
    "    'Cuadra, J',\n",
    "    'Jordan, A', \n",
    "    'Mulders, G', \n",
    "    'Munoz, D', \n",
    "]"
   ]
  },
  {
   "cell_type": "code",
   "execution_count": 9,
   "metadata": {},
   "outputs": [],
   "source": [
    "faculty_lists[\"UTA\"] = [\n",
    "    'Boquien, M', \n",
    "    'Carballo Bello, J', \n",
    "    'Pignata, G',\n",
    "    'Rojas Ayala, B'\n",
    "]"
   ]
  },
  {
   "cell_type": "code",
   "execution_count": 10,
   "metadata": {},
   "outputs": [],
   "source": [
    "#Search for all papers from UDP in ADS in a given year.\n",
    "def paper_search(year, affs=\"portales\"):\n",
    "    q = ads.SearchQuery(aff=affs, year=year, fl=[\"author\", \"citation_count\", \"aff\", \"property\", \"doctype\", \"title\", \"pubdate\"], max_pages=100)\n",
    "    ql = list(q)\n",
    "    return ql"
   ]
  },
  {
   "cell_type": "code",
   "execution_count": 11,
   "metadata": {},
   "outputs": [],
   "source": [
    "def proc_name(input_name):\n",
    "    name = unidecode(input_name)\n",
    "    name = re.sub(\"-\",\" \", name)\n",
    "    name = re.sub(\"^(.*?\\, .).*$\",r\"\\1\", name)\n",
    "    return name"
   ]
  },
  {
   "cell_type": "code",
   "execution_count": 12,
   "metadata": {},
   "outputs": [],
   "source": [
    "#Distribute publications between UDP authors.\n",
    "def get_n_papers(ads_query_list, faculty, only_faculty=False, affs=[\"portales\"]):\n",
    "    n_papers = dict()\n",
    "    for paper in ads_query_list:\n",
    "\n",
    "        #Only process refereed articles.\n",
    "        if paper.property is not None and 'REFEREED' in paper.property and paper.doctype=='article':\n",
    "            pass\n",
    "        else:\n",
    "            continue\n",
    "\n",
    "        inst_auth = list()\n",
    "        for k in range(len(paper.author)):\n",
    "            name = proc_name(paper.author[k])\n",
    "            if len(faculty)==0 or name in faculty:\n",
    "                found_aff = True\n",
    "                for aff in affs:\n",
    "                    if not re.search(aff, unidecode(paper.aff[k]), flags=re.IGNORECASE):\n",
    "                        found_aff = False\n",
    "                if found_aff:\n",
    "                    inst_auth.append(name)\n",
    "        for name in inst_auth:\n",
    "            if name in n_papers:\n",
    "                n_papers[name] += 1./len(inst_auth)\n",
    "            else:\n",
    "                n_papers[name] = 1./len(inst_auth)\n",
    "    return n_papers"
   ]
  },
  {
   "cell_type": "code",
   "execution_count": 13,
   "metadata": {},
   "outputs": [],
   "source": [
    "ql = dict()\n",
    "aff_search = dict()\n",
    "n_papers = dict()"
   ]
  },
  {
   "cell_type": "code",
   "execution_count": 14,
   "metadata": {},
   "outputs": [],
   "source": [
    "# aff_search[\"UCH\"] = \"Universidad de Chile\"\n",
    "# aff_search[\"UDP\"] = \"portales\"\n",
    "# aff_search[\"PUC\"] = \"Pontificia Universidad Catolica de Chile\"\n",
    "# aff_search[\"UNAB\"] = \"Universidad Andres Bello\"\n",
    "# aff_search[\"UTSM\"] = \"Universidad Tecnica Federico Santa Maria\"\n",
    "# aff_search[\"UAI\"] = \"Universidad Adolfo Ibanez\"\n",
    "# aff_search[\"UTA\"] = \"Universidad de Tarapaca\"\n",
    "aff_search[\"UCH\"] = \"Universidad de Chile\"\n",
    "aff_search[\"UDP\"] = \"portales\"\n",
    "aff_search[\"PUC\"] = \"Universidad Catolica\"\n",
    "aff_search[\"UNAB\"] = \"Andres Bello\"\n",
    "aff_search[\"UTSM\"] = \"Santa Maria\"\n",
    "aff_search[\"UAI\"] = \"Adolfo Ibanez\"\n",
    "aff_search[\"UTA\"] = \"Tarapaca\""
   ]
  },
  {
   "cell_type": "code",
   "execution_count": 15,
   "metadata": {},
   "outputs": [],
   "source": [
    "for key in aff_search.keys():\n",
    "    if key not in ql:\n",
    "        ql[key] = paper_search(2023, affs=aff_search[key])"
   ]
  },
  {
   "cell_type": "code",
   "execution_count": 16,
   "metadata": {},
   "outputs": [],
   "source": [
    "# inst = \"UTA\"\n",
    "# #ql[inst] = paper_search(2023, affs=aff_search[inst])\n",
    "# n_papers[inst] = get_n_papers(ql[key], faculty_lists[inst], only_faculty=True, affs=[aff_search[inst]])\n",
    "# np.unique(list(n_papers[inst].keys()))"
   ]
  },
  {
   "cell_type": "code",
   "execution_count": 17,
   "metadata": {},
   "outputs": [],
   "source": [
    "#Sort dividing papers as they go for incentivos.\n",
    "for key in ql.keys():\n",
    "    n_papers[key] = get_n_papers(ql[key], faculty_lists[key], only_faculty=True, affs=[aff_search[key]])"
   ]
  },
  {
   "cell_type": "code",
   "execution_count": 18,
   "metadata": {},
   "outputs": [
    {
     "name": "stdout",
     "output_type": "stream",
     "text": [
      "UCH 4.0\n",
      "UDP 8.5\n",
      "PUC 4.25\n",
      "UNAB 4.0\n",
      "UTSM 5.0\n",
      "UAI 4.5\n",
      "UTA 4.0\n"
     ]
    },
    {
     "data": {
      "text/plain": [
       "Text(0, 0.5, 'Numero de articulos')"
      ]
     },
     "execution_count": 18,
     "metadata": {},
     "output_type": "execute_result"
    },
    {
     "data": {
      "image/png": "[encoded data removed]",
      "text/plain": [
       "<Figure size 640x480 with 1 Axes>"
      ]
     },
     "metadata": {},
     "output_type": "display_data"
    }
   ],
   "source": [
    "list_for_plots = list()\n",
    "keys = list(n_papers.keys())\n",
    "median_papers = dict()\n",
    "for key in keys:\n",
    "    median_papers[key] = np.median(list(n_papers[key].values()))\n",
    "    print(key, median_papers[key])\n",
    "keys = sorted(keys, key=lambda k:median_papers[k])\n",
    "for key in keys:\n",
    "    list_for_plots.append(list(n_papers[key].values()))\n",
    "plt.boxplot(list_for_plots, whis=3.0, labels=keys)\n",
    "plt.ylabel(\"Numero de articulos\")"
   ]
  },
  {
   "cell_type": "code",
   "execution_count": 19,
   "metadata": {},
   "outputs": [
    {
     "data": {
      "text/plain": [
       "{'Zurlo, A': 8.5,\n",
       " 'Cieza, L': 7.5,\n",
       " 'Aravena, M': 17.0,\n",
       " 'Assef, R': 4.5,\n",
       " 'Ricci, C': 23.166666666666664,\n",
       " 'Mazzucchelli, C': 11.333333333333332,\n",
       " 'Prieto, J': 10.5,\n",
       " 'Johnston, E': 1.5,\n",
       " 'Jenkins, J': 11.0,\n",
       " 'Jofre, P': 7.0,\n",
       " 'Yang, B': 3.0}"
      ]
     },
     "execution_count": 19,
     "metadata": {},
     "output_type": "execute_result"
    }
   ],
   "source": [
    "n_papers[\"UDP\"]"
   ]
  },
  {
   "cell_type": "code",
   "execution_count": null,
   "metadata": {},
   "outputs": [],
   "source": []
  }
 ],
 "metadata": {
  "kernelspec": {
   "display_name": "astroconda",
   "language": "python",
   "name": "python3"
  },
  "language_info": {
   "codemirror_mode": {
    "name": "ipython",
    "version": 3
   },
   "file_extension": ".py",
   "mimetype": "text/x-python",
   "name": "python",
   "nbconvert_exporter": "python",
   "pygments_lexer": "ipython3",
   "version": "3.7.11"
  },
  "orig_nbformat": 4
 },
 "nbformat": 4,
 "nbformat_minor": 2
}
