{
 "cells": [
  {
   "cell_type": "code",
   "execution_count": 1,
   "metadata": {},
   "outputs": [],
   "source": [
    "import ads\n",
    "import numpy as np\n",
    "import matplotlib.pyplot as plt\n",
    "import re\n",
    "from unidecode import unidecode\n",
    "from astropy.time import Time"
   ]
  },
  {
   "cell_type": "code",
   "execution_count": 2,
   "metadata": {},
   "outputs": [],
   "source": [
    "faculty_lists = dict()"
   ]
  },
  {
   "cell_type": "code",
   "execution_count": 3,
   "metadata": {},
   "outputs": [],
   "source": [
    "#List of Astro faculty\n",
    "faculty_lists['UCH'] = [\n",
    "    'Blanc, G',\n",
    "    'Bronfman, L',\n",
    "    'Campusano, L',\n",
    "    'Casassus, S',\n",
    "    'Costa, E',\n",
    "    'Escala, A',\n",
    "    'Finger, R',\n",
    "    'Forster, F.',\n",
    "    'Lira, P',\n",
    "    'Lopez, S',\n",
    "    'Mardones, D',\n",
    "    'Max Moerbeck, W', \n",
    "    'Maza, J',\n",
    "    'Mendez, R', \n",
    "    'Munoz, R',\n",
    "    'Perez, L', \n",
    "    'Rojo, P', \n",
    "    'Rubio, M',\n",
    "    'Ruiz, M'\n",
    "]"
   ]
  },
  {
   "cell_type": "code",
   "execution_count": 4,
   "metadata": {},
   "outputs": [],
   "source": [
    "faculty_lists['UDP'] = [\n",
    "    \"Aravena, M\",\n",
    "    \"Assef, R\",\n",
    "    \"Cieza, L\",\n",
    "    \"Jenkins, J\",\n",
    "    \"Johnston, E\",\n",
    "    \"Jofre, P\",\n",
    "    \"Mazzucchelli, C\",\n",
    "    \"Prieto, J\",\n",
    "    \"Ricci, C\",\n",
    "    \"Yang, B\",\n",
    "    \"Zurlo, A\"\n",
    "]"
   ]
  },
  {
   "cell_type": "code",
   "execution_count": 5,
   "metadata": {},
   "outputs": [],
   "source": [
    "faculty_lists['PUC'] = [\n",
    "    'Aguilera Gomez, C',\n",
    "    'Barrientos, L', \n",
    "    'Bauer, F', \n",
    "    'Catelan, M',\n",
    "    'Chaname, J', \n",
    "    'Clocchiatti, A',\n",
    "    'Dunner, R',\n",
    "    'Galaz, G',\n",
    "    'Guzman, V',\n",
    "    'Petrovich, C',\n",
    "    'Puzia, T',\n",
    "    'Tissera, P',\n",
    "    'Treister, E',\n",
    "    'Zoccali, M'\n",
    "]"
   ]
  },
  {
   "cell_type": "code",
   "execution_count": 6,
   "metadata": {},
   "outputs": [],
   "source": [
    "faculty_lists['UNAB'] = [\n",
    "    'Anguita, T', \n",
    "    'Caceres, C', \n",
    "    'Chemin, L',\n",
    "    'Gavignaud, I',\n",
    "    'Gomez Camus, M', \n",
    "    'Guaita, L',\n",
    "    'Masetti, N', \n",
    "    'Minniti, D', \n",
    "    'Monaco, L', \n",
    "    'Nantais, J',\n",
    "    'Ohnaka, K',\n",
    "]"
   ]
  },
  {
   "cell_type": "code",
   "execution_count": 7,
   "metadata": {},
   "outputs": [],
   "source": [
    "#https://fisica.usm.cl/departamento/academicos-y-docentes/\n",
    "faculty_lists['UTSM'] = [\n",
    "    'Jaffe, Y', \n",
    "    'Montero Dorta, A',\n",
    "    'Schreiber, M',\n",
    "    'Smith, R', \n",
    "    'Toloza, O',\n",
    "]"
   ]
  },
  {
   "cell_type": "code",
   "execution_count": 8,
   "metadata": {},
   "outputs": [],
   "source": [
    "faculty_lists[\"UAI\"] = [\n",
    "    'Benitez Llambay, P', \n",
    "    'Brahm, R', \n",
    "    'Cuadra, J',\n",
    "    'Jordan, A', \n",
    "    'Mulders, G', \n",
    "    'Munoz, D', \n",
    "]"
   ]
  },
  {
   "cell_type": "code",
   "execution_count": 9,
   "metadata": {},
   "outputs": [],
   "source": [
    "faculty_lists[\"UTA\"] = [\n",
    "    'Boquien, M', \n",
    "    'Carballo Bello, J', \n",
    "    'Pignata, G',\n",
    "    'Rojas Ayala, B'\n",
    "]"
   ]
  },
  {
   "cell_type": "code",
   "execution_count": 10,
   "metadata": {},
   "outputs": [],
   "source": [
    "faculty_lists[\"USACH\"] = [\n",
    "    'El Mellah, I',\n",
    "    'Espinoza, C',\n",
    "    'Perez, S',\n",
    "    'Rojas-Arriagada, A',\n",
    "]"
   ]
  },
  {
   "cell_type": "code",
   "execution_count": 11,
   "metadata": {},
   "outputs": [],
   "source": [
    "#Search for all papers from UDP in ADS in a given year.\n",
    "def paper_search(year, affs=\"portales\"):\n",
    "    q = ads.SearchQuery(aff=affs, year=year, fl=[\"author\", \"citation_count\", \"aff\", \"property\", \"doctype\", \"title\", \"pubdate\", \"bibcode\"], max_pages=100)\n",
    "    ql = list(q)\n",
    "    return ql"
   ]
  },
  {
   "cell_type": "code",
   "execution_count": 12,
   "metadata": {},
   "outputs": [],
   "source": [
    "def proc_name(input_name):\n",
    "    name = unidecode(input_name)\n",
    "    name = re.sub(\"-\",\" \", name)\n",
    "    name = re.sub(\"^(.*?\\, .).*$\",r\"\\1\", name)\n",
    "    return name"
   ]
  },
  {
   "cell_type": "code",
   "execution_count": 13,
   "metadata": {},
   "outputs": [],
   "source": [
    "#Distribute publications between UDP authors.\n",
    "def get_n_papers(ads_query_list, faculty, only_faculty=False, affs=[\"portales\"]):\n",
    "    n_papers = dict()\n",
    "    for paper in ads_query_list:\n",
    "\n",
    "        #Only process refereed articles.\n",
    "        if paper.property is not None and 'REFEREED' in paper.property and paper.doctype=='article':\n",
    "            pass\n",
    "        else:\n",
    "            continue\n",
    "\n",
    "        inst_auth = list()\n",
    "        for k in range(len(paper.author)):\n",
    "            name = proc_name(paper.author[k])\n",
    "            if len(faculty)==0 or name in faculty:\n",
    "                found_aff = True\n",
    "                for aff in affs:\n",
    "                    if not re.search(aff, unidecode(paper.aff[k]), flags=re.IGNORECASE):\n",
    "                        found_aff = False\n",
    "                if found_aff:\n",
    "                    inst_auth.append(name)\n",
    "        for name in inst_auth:\n",
    "            if name in n_papers:\n",
    "                n_papers[name] += 1./len(inst_auth)\n",
    "            else:\n",
    "                n_papers[name] = 1./len(inst_auth)\n",
    "    return n_papers"
   ]
  },
  {
   "cell_type": "code",
   "execution_count": 14,
   "metadata": {},
   "outputs": [],
   "source": [
    "ql = dict()\n",
    "aff_search = dict()\n",
    "n_papers = dict()"
   ]
  },
  {
   "cell_type": "code",
   "execution_count": 15,
   "metadata": {},
   "outputs": [],
   "source": [
    "# aff_search[\"UCH\"] = \"Universidad de Chile\"\n",
    "# aff_search[\"UDP\"] = \"portales\"\n",
    "# aff_search[\"PUC\"] = \"Pontificia Universidad Catolica de Chile\"\n",
    "# aff_search[\"UNAB\"] = \"Universidad Andres Bello\"\n",
    "# aff_search[\"UTSM\"] = \"Universidad Tecnica Federico Santa Maria\"\n",
    "# aff_search[\"UAI\"] = \"Universidad Adolfo Ibanez\"\n",
    "# aff_search[\"UTA\"] = \"Universidad de Tarapaca\"\n",
    "aff_search[\"UCH\"] = \"Universidad de Chile\"\n",
    "aff_search[\"UDP\"] = \"portales\"\n",
    "aff_search[\"PUC\"] = \"Universidad Catolica\"\n",
    "aff_search[\"UNAB\"] = \"Andres Bello\"\n",
    "#aff_search[\"UTSM\"] = \"Santa Maria\"\n",
    "aff_search[\"UAI\"] = \"Adolfo Ibanez\"\n",
    "aff_search[\"UTA\"] = \"Tarapaca\"\n",
    "aff_search[\"USACH\"] = \"Universidad de Santiago\""
   ]
  },
  {
   "cell_type": "code",
   "execution_count": 16,
   "metadata": {},
   "outputs": [],
   "source": [
    "for key in aff_search.keys():\n",
    "    if key not in ql:\n",
    "        ql[key] = paper_search(2023, affs=aff_search[key])"
   ]
  },
  {
   "cell_type": "code",
   "execution_count": 17,
   "metadata": {},
   "outputs": [
    {
     "data": {
      "text/plain": [
       "array(['El Mellah, I', 'Espinoza, C', 'Perez, S'], dtype='<U12')"
      ]
     },
     "execution_count": 17,
     "metadata": {},
     "output_type": "execute_result"
    }
   ],
   "source": [
    "inst = \"USACH\"\n",
    "#ql[inst] = paper_search(2023, affs=aff_search[inst])\n",
    "n_papers[inst] = get_n_papers(ql[key], faculty_lists[inst], only_faculty=True, affs=[aff_search[inst]])\n",
    "np.unique(list(n_papers[inst].keys()))"
   ]
  },
  {
   "cell_type": "code",
   "execution_count": 18,
   "metadata": {},
   "outputs": [],
   "source": [
    "#Sort dividing papers as they go for incentivos.\n",
    "for key in ql.keys():\n",
    "    n_papers[key] = get_n_papers(ql[key], faculty_lists[key], only_faculty=True, affs=[aff_search[key]])"
   ]
  },
  {
   "cell_type": "code",
   "execution_count": 19,
   "metadata": {},
   "outputs": [
    {
     "name": "stdout",
     "output_type": "stream",
     "text": [
      "USACH 4.0\n",
      "UCH 4.0\n",
      "UDP 8.5\n",
      "PUC 4.25\n",
      "UNAB 4.0\n",
      "UAI 4.5\n",
      "UTA 4.0\n"
     ]
    },
    {
     "data": {
      "text/plain": [
       "Text(0, 0.5, 'Numero de articulos')"
      ]
     },
     "execution_count": 19,
     "metadata": {},
     "output_type": "execute_result"
    },
    {
     "data": {
      "image/png": "[encoded data removed]",
      "text/plain": [
       "<Figure size 432x288 with 1 Axes>"
      ]
     },
     "metadata": {
      "needs_background": "light"
     },
     "output_type": "display_data"
    }
   ],
   "source": [
    "list_for_plots = list()\n",
    "keys = list(n_papers.keys())\n",
    "median_papers = dict()\n",
    "for key in keys:\n",
    "    median_papers[key] = np.median(list(n_papers[key].values()))\n",
    "    print(key, median_papers[key])\n",
    "keys = sorted(keys, key=lambda k:median_papers[k])\n",
    "for key in keys:\n",
    "    list_for_plots.append(list(n_papers[key].values()))\n",
    "plt.boxplot(list_for_plots, whis=3.0, labels=keys, whiskerprops={'color':'gray'}, capprops={'color':'gray'})\n",
    "plt.ylabel(\"Numero de articulos\")"
   ]
  },
  {
   "cell_type": "code",
   "execution_count": 20,
   "metadata": {},
   "outputs": [],
   "source": [
    "#Get list for Jose.\n",
    "def get_papers_per_faculty(ads_query_list, faculty, only_faculty=False, affs=[\"portales\"]):\n",
    "    papers_per_faculty = dict()\n",
    "    for name in faculty:\n",
    "        papers_per_faculty[name] = list()\n",
    "    for paper in ads_query_list:\n",
    "\n",
    "        #Only process refereed articles.\n",
    "        if paper.property is not None and 'REFEREED' in paper.property and paper.doctype=='article':\n",
    "            pass\n",
    "        else:\n",
    "            continue\n",
    "\n",
    "        inst_auth = list()\n",
    "        for k in range(len(paper.author)):\n",
    "            name = proc_name(paper.author[k])\n",
    "            if len(faculty)==0 or name in faculty:\n",
    "                found_aff = True\n",
    "                for aff in affs:\n",
    "                    if not re.search(aff, unidecode(paper.aff[k]), flags=re.IGNORECASE):\n",
    "                        found_aff = False\n",
    "                if found_aff:\n",
    "                    inst_auth.append(name)\n",
    "        for name in inst_auth:\n",
    "            papers_per_faculty[name].append([paper.bibcode, 1./len(inst_auth)])\n",
    "    return papers_per_faculty"
   ]
  },
  {
   "cell_type": "code",
   "execution_count": 21,
   "metadata": {},
   "outputs": [],
   "source": [
    "ppf = get_papers_per_faculty(ql['UDP'], faculty_lists['UDP'], affs=[aff_search['UDP']])"
   ]
  },
  {
   "cell_type": "code",
   "execution_count": 22,
   "metadata": {},
   "outputs": [
    {
     "name": "stdout",
     "output_type": "stream",
     "text": [
      "\n",
      " Aravena, M\n",
      "2023A&A...669A..46P    0.33\n",
      "2023MNRAS.518.3183L    0.33\n",
      "2023A&A...677A..54Z    0.33\n",
      "2023Natur.618..708S    1.00\n",
      "2023ApJ...958...64B    1.00\n",
      "2023A&A...675A..85M    1.00\n",
      "2023MNRAS.524.1775H    1.00\n",
      "2023MNRAS.518.6142A    1.00\n",
      "2023A&A...673A..13M    1.00\n",
      "2023MNRAS.522.3926B    1.00\n",
      "2023ApJS..264....7C    1.00\n",
      "2023A&A...676A..89G    1.00\n",
      "2023MNRAS.518.5500B    1.00\n",
      "2023ApJ...948...44R    1.00\n",
      "2023A&A...670A..16G    1.00\n",
      "2023ApJ...945..111B    1.00\n",
      "2023ApJ...949...87L    1.00\n",
      "2023A&A...676A..62V    1.00\n",
      "\n",
      " Assef, R\n",
      "2023A&A...669A..46P    0.33\n",
      "2023MNRAS.518.3183L    0.33\n",
      "2023A&A...677A..54Z    0.33\n",
      "2023ApJ...948....5F    0.50\n",
      "2023ApJ...958..162L    1.00\n",
      "2023ApJ...950..127C    1.00\n",
      "2023ApJ...951...92B    1.00\n",
      "2023A&A...680A..51M    1.00\n",
      "\n",
      " Cieza, L\n",
      "2023MNRAS.523.4970N    0.50\n",
      "2023EPJP..138..411Z    0.50\n",
      "2023MNRAS.526.1545C    1.00\n",
      "2023MNRAS.518.5620W    0.50\n",
      "2023ApJ...952L..17W    0.50\n",
      "2023Natur.615..227T    1.00\n",
      "2023MNRAS.526.2077A    0.50\n",
      "2023MNRAS.522.2611A    1.00\n",
      "2023ApJ...949...27L    1.00\n",
      "2023MNRAS.524.1826O    1.00\n",
      "\n",
      " Jenkins, J\n",
      "2023A&A...675A..81H    1.00\n",
      "2023MNRAS.519.1562M    1.00\n",
      "2023MNRAS.518.2627V    1.00\n",
      "2023MNRAS.520.3649H    1.00\n",
      "2023A&A...670L...9P    1.00\n",
      "2023MNRAS.522..750D    1.00\n",
      "2023MNRAS.518.4845J    1.00\n",
      "2023MNRAS.525.1588J    1.00\n",
      "2023A&A...675A.114C    1.00\n",
      "2023MNRAS.523..169S    1.00\n",
      "2023MNRAS.522.4499D    1.00\n",
      "\n",
      " Johnston, E\n",
      "2023A&A...680A.112A    1.00\n",
      "2023A&A...677A..28P    0.50\n",
      "2023MNRAS.524.3912L    1.00\n",
      "\n",
      " Jofre, P\n",
      "2023ApJS..267...44A    1.00\n",
      "2023A&A...671A..21J    1.00\n",
      "2023A&A...676A.129H    1.00\n",
      "2023A&A...671A..61N    1.00\n",
      "2023A&A...670A.107H    1.00\n",
      "2023A&A...672A..46A    1.00\n",
      "2023A&A...669A..96D    1.00\n",
      "\n",
      " Mazzucchelli, C\n",
      "2023A&A...677A..54Z    0.33\n",
      "2023ApJ...951L...4W    1.00\n",
      "2023ApJ...951L...5Y    1.00\n",
      "2023MNRAS.523.1399D    1.00\n",
      "2023A&A...676A..71M    1.00\n",
      "2023ApJS..265...29B    1.00\n",
      "2023ApJS..268...32M    1.00\n",
      "2023ApJS..265...32M    1.00\n",
      "2023ApJ...943...67S    1.00\n",
      "2023ApJ...952...44B    1.00\n",
      "2023MNRAS.522.4918S    1.00\n",
      "2023ApJ...943..150A    1.00\n",
      "\n",
      " Prieto, J\n",
      "2023A&A...677A..28P    0.50\n",
      "2023ApJ...955L..29P    1.00\n",
      "2023MNRAS.520.4356N    1.00\n",
      "2023A&A...677A..20M    1.00\n",
      "2023A&A...677L...1P    1.00\n",
      "2023MNRAS.519.5271C    1.00\n",
      "2023A&A...678A.104M    1.00\n",
      "2023MNRAS.520.2386R    1.00\n",
      "2023MNRAS.519.6349D    1.00\n",
      "2023ApJ...946..101C    1.00\n",
      "2023ApJ...950..108H    1.00\n",
      "\n",
      " Ricci, C\n",
      "2023A&A...669A..46P    0.33\n",
      "2023ApJ...959...27R    1.00\n",
      "2023MNRAS.526.1687T    1.00\n",
      "2023MNRAS.518.3183L    0.33\n",
      "2023ApJ...952L..28R    1.00\n",
      "2023ApJS..269...24K    1.00\n",
      "2023MNRAS.518.2938T    1.00\n",
      "2023ApJ...948....5F    0.50\n",
      "2023MNRAS.519.6267T    1.00\n",
      "2023MNRAS.526.5072M    1.00\n",
      "2023NatAs...7.1282R    1.00\n",
      "2023ApJS..265...37Y    1.00\n",
      "2023ApJ...942L..24K    1.00\n",
      "2023ApJ...956...60C    1.00\n",
      "2023A&A...675A..58P    1.00\n",
      "2023A&A...675A..88A    1.00\n",
      "2023ApJ...953...32M    1.00\n",
      "2023ApJ...945...55R    1.00\n",
      "2023MNRAS.524.4670J    1.00\n",
      "2023MNRAS.522.4098K    1.00\n",
      "2023MNRAS.520.1687A    1.00\n",
      "2023A&A...669A.114D    1.00\n",
      "2023ApJ...954..116P    1.00\n",
      "2023MNRAS.523.6239N    1.00\n",
      "2023ApJ...942...82A    1.00\n",
      "2023ApJ...943..109P    1.00\n",
      "\n",
      " Yang, B\n",
      "2023A&A...670A..52M    1.00\n",
      "2023A&A...670A.159M    1.00\n",
      "2023ApJ...944..202J    1.00\n",
      "\n",
      " Zurlo, A\n",
      "2023MNRAS.523.4970N    0.50\n",
      "2023EPJP..138..411Z    0.50\n",
      "2023MNRAS.518.5620W    0.50\n",
      "2023ApJ...952L..17W    0.50\n",
      "2023A&A...673A..98B    1.00\n",
      "2023A&A...672A...1E    1.00\n",
      "2023A&A...672A..93M    1.00\n",
      "2023MNRAS.526.2077A    0.50\n",
      "2023NatCo..14.6232G    1.00\n",
      "2023A&A...671A..82R    1.00\n",
      "2023A&A...672A.145Z    1.00\n"
     ]
    }
   ],
   "source": [
    "for name in ppf.keys():\n",
    "    print(\"\\n\",name)\n",
    "    for p in ppf[name]:\n",
    "        print(\"{:22} {:4.2f}\".format(p[0],p[1]))"
   ]
  },
  {
   "cell_type": "code",
   "execution_count": 28,
   "metadata": {},
   "outputs": [],
   "source": [
    "#Save all needed information for pretty plot.\n",
    "cato = open(\"n_papers_2023.txt\",\"w\")\n",
    "for inst in n_papers.keys():\n",
    "    for name in faculty_lists[inst]:\n",
    "        n = 0.0\n",
    "        if name in n_papers[inst]:\n",
    "            n = n_papers[inst][name]\n",
    "        cato.write(\"{:10s} {:20s} {:5.1f}\\n\".format(inst, name, n))\n",
    "cato.close()"
   ]
  }
 ],
 "metadata": {
  "kernelspec": {
   "display_name": "astroconda",
   "language": "python",
   "name": "python3"
  },
  "language_info": {
   "codemirror_mode": {
    "name": "ipython",
    "version": 3
   },
   "file_extension": ".py",
   "mimetype": "text/x-python",
   "name": "python",
   "nbconvert_exporter": "python",
   "pygments_lexer": "ipython3",
   "version": "3.7.11"
  },
  "orig_nbformat": 4
 },
 "nbformat": 4,
 "nbformat_minor": 2
}
